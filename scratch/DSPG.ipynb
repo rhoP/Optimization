{
 "cells": [
  {
   "cell_type": "code",
   "id": "initial_id",
   "metadata": {
    "collapsed": true,
    "ExecuteTime": {
     "end_time": "2024-07-04T13:48:09.542963Z",
     "start_time": "2024-07-04T13:48:08.901119Z"
    }
   },
   "source": [
    "import numpy as np\n",
    "import networkx as nx\n",
    "from sympy import Matrix"
   ],
   "outputs": [],
   "execution_count": 1
  },
  {
   "metadata": {
    "ExecuteTime": {
     "end_time": "2024-07-04T13:48:09.551673Z",
     "start_time": "2024-07-04T13:48:09.544589Z"
    }
   },
   "cell_type": "code",
   "source": "a = np.array([[0, 1, 0, 0, 0, 0, 0], [0, 0, 1, 0, 0, 0, 0], [0, 0, 0, 1, 0, 0, 0], [0, 0, 0, 0, 1, 0, 0], [0, 0, 0, 0, 0, 1, 0], [0, 0, 0, 0, 0, 0, 1], [1, 1, 1, 1, 1, 1, 1]])",
   "id": "a712396d03b05dd8",
   "outputs": [],
   "execution_count": 2
  },
  {
   "metadata": {
    "ExecuteTime": {
     "end_time": "2024-07-04T13:48:09.560310Z",
     "start_time": "2024-07-04T13:48:09.553479Z"
    }
   },
   "cell_type": "code",
   "source": "m = Matrix(a)",
   "id": "54f42ddebefdb6a0",
   "outputs": [],
   "execution_count": 3
  },
  {
   "metadata": {
    "ExecuteTime": {
     "end_time": "2024-07-04T13:48:09.571866Z",
     "start_time": "2024-07-04T13:48:09.562476Z"
    }
   },
   "cell_type": "code",
   "source": "m",
   "id": "8da2961bdd558b29",
   "outputs": [
    {
     "data": {
      "text/plain": [
       "Matrix([\n",
       "[0, 1, 0, 0, 0, 0, 0],\n",
       "[0, 0, 1, 0, 0, 0, 0],\n",
       "[0, 0, 0, 1, 0, 0, 0],\n",
       "[0, 0, 0, 0, 1, 0, 0],\n",
       "[0, 0, 0, 0, 0, 1, 0],\n",
       "[0, 0, 0, 0, 0, 0, 1],\n",
       "[1, 1, 1, 1, 1, 1, 1]])"
      ],
      "text/latex": "$\\displaystyle \\left[\\begin{matrix}0 & 1 & 0 & 0 & 0 & 0 & 0\\\\0 & 0 & 1 & 0 & 0 & 0 & 0\\\\0 & 0 & 0 & 1 & 0 & 0 & 0\\\\0 & 0 & 0 & 0 & 1 & 0 & 0\\\\0 & 0 & 0 & 0 & 0 & 1 & 0\\\\0 & 0 & 0 & 0 & 0 & 0 & 1\\\\1 & 1 & 1 & 1 & 1 & 1 & 1\\end{matrix}\\right]$"
     },
     "execution_count": 4,
     "metadata": {},
     "output_type": "execute_result"
    }
   ],
   "execution_count": 4
  },
  {
   "metadata": {
    "ExecuteTime": {
     "end_time": "2024-07-02T14:32:00.501587Z",
     "start_time": "2024-07-02T14:31:59.816530Z"
    }
   },
   "cell_type": "code",
   "source": "P, J = m.jordan_form()",
   "id": "50af662c5c9bc949",
   "outputs": [
    {
     "ename": "MatrixError",
     "evalue": "Jordan normal form is not implemented if the matrix have eigenvalues in CRootOf form",
     "output_type": "error",
     "traceback": [
      "\u001B[0;31m---------------------------------------------------------------------------\u001B[0m",
      "\u001B[0;31mMatrixError\u001B[0m                               Traceback (most recent call last)",
      "Cell \u001B[0;32mIn[7], line 1\u001B[0m\n\u001B[0;32m----> 1\u001B[0m P, J \u001B[38;5;241m=\u001B[39m m\u001B[38;5;241m.\u001B[39mjordan_form()\n",
      "File \u001B[0;32m~/anaconda3/envs/Optimization/lib/python3.11/site-packages/sympy/matrices/matrices.py:416\u001B[0m, in \u001B[0;36mMatrixEigen.jordan_form\u001B[0;34m(self, calc_transform, **kwargs)\u001B[0m\n\u001B[1;32m    415\u001B[0m \u001B[38;5;28;01mdef\u001B[39;00m \u001B[38;5;21mjordan_form\u001B[39m(\u001B[38;5;28mself\u001B[39m, calc_transform\u001B[38;5;241m=\u001B[39m\u001B[38;5;28;01mTrue\u001B[39;00m, \u001B[38;5;241m*\u001B[39m\u001B[38;5;241m*\u001B[39mkwargs):\n\u001B[0;32m--> 416\u001B[0m     \u001B[38;5;28;01mreturn\u001B[39;00m _jordan_form(\u001B[38;5;28mself\u001B[39m, calc_transform\u001B[38;5;241m=\u001B[39mcalc_transform, \u001B[38;5;241m*\u001B[39m\u001B[38;5;241m*\u001B[39mkwargs)\n",
      "File \u001B[0;32m~/anaconda3/envs/Optimization/lib/python3.11/site-packages/sympy/matrices/eigen.py:1180\u001B[0m, in \u001B[0;36m_jordan_form\u001B[0;34m(M, calc_transform, chop)\u001B[0m\n\u001B[1;32m   1178\u001B[0m \u001B[38;5;28;01mfor\u001B[39;00m x \u001B[38;5;129;01min\u001B[39;00m eigs:\n\u001B[1;32m   1179\u001B[0m     \u001B[38;5;28;01mif\u001B[39;00m x\u001B[38;5;241m.\u001B[39mhas(CRootOf):\n\u001B[0;32m-> 1180\u001B[0m         \u001B[38;5;28;01mraise\u001B[39;00m MatrixError(\n\u001B[1;32m   1181\u001B[0m             \u001B[38;5;124m\"\u001B[39m\u001B[38;5;124mJordan normal form is not implemented if the matrix have \u001B[39m\u001B[38;5;124m\"\u001B[39m\n\u001B[1;32m   1182\u001B[0m             \u001B[38;5;124m\"\u001B[39m\u001B[38;5;124meigenvalues in CRootOf form\u001B[39m\u001B[38;5;124m\"\u001B[39m)\n\u001B[1;32m   1184\u001B[0m \u001B[38;5;66;03m# most matrices have distinct eigenvalues\u001B[39;00m\n\u001B[1;32m   1185\u001B[0m \u001B[38;5;66;03m# and so are diagonalizable.  In this case, don't\u001B[39;00m\n\u001B[1;32m   1186\u001B[0m \u001B[38;5;66;03m# do extra work!\u001B[39;00m\n\u001B[1;32m   1187\u001B[0m \u001B[38;5;28;01mif\u001B[39;00m \u001B[38;5;28mlen\u001B[39m(eigs\u001B[38;5;241m.\u001B[39mkeys()) \u001B[38;5;241m==\u001B[39m mat\u001B[38;5;241m.\u001B[39mcols:\n",
      "\u001B[0;31mMatrixError\u001B[0m: Jordan normal form is not implemented if the matrix have eigenvalues in CRootOf form"
     ]
    }
   ],
   "execution_count": 7
  },
  {
   "metadata": {
    "ExecuteTime": {
     "end_time": "2024-07-02T14:32:53.091372Z",
     "start_time": "2024-07-02T14:32:53.034496Z"
    }
   },
   "cell_type": "code",
   "source": "m.eigenvals()",
   "id": "c7d96a49ed2aa28a",
   "outputs": [
    {
     "data": {
      "text/plain": [
       "{CRootOf(lambda**7 - lambda**6 - lambda**5 - lambda**4 - lambda**3 - lambda**2 - lambda - 1, 0): 1,\n",
       " CRootOf(lambda**7 - lambda**6 - lambda**5 - lambda**4 - lambda**3 - lambda**2 - lambda - 1, 1): 1,\n",
       " CRootOf(lambda**7 - lambda**6 - lambda**5 - lambda**4 - lambda**3 - lambda**2 - lambda - 1, 2): 1,\n",
       " CRootOf(lambda**7 - lambda**6 - lambda**5 - lambda**4 - lambda**3 - lambda**2 - lambda - 1, 3): 1,\n",
       " CRootOf(lambda**7 - lambda**6 - lambda**5 - lambda**4 - lambda**3 - lambda**2 - lambda - 1, 4): 1,\n",
       " CRootOf(lambda**7 - lambda**6 - lambda**5 - lambda**4 - lambda**3 - lambda**2 - lambda - 1, 5): 1,\n",
       " CRootOf(lambda**7 - lambda**6 - lambda**5 - lambda**4 - lambda**3 - lambda**2 - lambda - 1, 6): 1}"
      ]
     },
     "execution_count": 8,
     "metadata": {},
     "output_type": "execute_result"
    }
   ],
   "execution_count": 8
  },
  {
   "metadata": {
    "ExecuteTime": {
     "end_time": "2024-07-02T14:43:13.988508Z",
     "start_time": "2024-07-02T14:43:13.983755Z"
    }
   },
   "cell_type": "code",
   "source": "evals, evecs = np.linalg.eig(a)",
   "id": "3222ef5845067d6e",
   "outputs": [],
   "execution_count": 24
  },
  {
   "metadata": {
    "ExecuteTime": {
     "end_time": "2024-07-02T14:38:45.732170Z",
     "start_time": "2024-07-02T14:38:45.725461Z"
    }
   },
   "cell_type": "code",
   "source": [
    "def jordan(a):\n",
    "    e = a[:,0]  # eigenvalues\n",
    "    m = a[:,1].astype('int')  # multiplicities\n",
    "    d = np.repeat(e, m) # main diagonal\n",
    "    ones = np.ones(d.size - 1)\n",
    "    ones[np.cumsum(m)[:-1] -1] = 0\n",
    "    j = np.diag(d) + np.diag(ones, k=1)\n",
    "    return j\n"
   ],
   "id": "7b883ded9d8f2ba0",
   "outputs": [],
   "execution_count": 14
  },
  {
   "metadata": {
    "ExecuteTime": {
     "end_time": "2024-07-02T14:38:49.521792Z",
     "start_time": "2024-07-02T14:38:49.516778Z"
    }
   },
   "cell_type": "code",
   "source": "j = jordan(a)",
   "id": "93b15b0d0b067abd",
   "outputs": [],
   "execution_count": 15
  },
  {
   "metadata": {
    "ExecuteTime": {
     "end_time": "2024-07-02T14:38:49.975026Z",
     "start_time": "2024-07-02T14:38:49.970656Z"
    }
   },
   "cell_type": "code",
   "source": "jj = Matrix(j)",
   "id": "178dd3438de4f892",
   "outputs": [],
   "execution_count": 16
  },
  {
   "metadata": {
    "ExecuteTime": {
     "end_time": "2024-07-02T14:44:20.103284Z",
     "start_time": "2024-07-02T14:44:19.830031Z"
    }
   },
   "cell_type": "code",
   "source": "m.jordan_block(eigenvalue=1.9919642)",
   "id": "978d1624f9a137f6",
   "outputs": [
    {
     "ename": "ValueError",
     "evalue": "Must supply a matrix size",
     "output_type": "error",
     "traceback": [
      "\u001B[0;31m---------------------------------------------------------------------------\u001B[0m",
      "\u001B[0;31mValueError\u001B[0m                                Traceback (most recent call last)",
      "Cell \u001B[0;32mIn[26], line 1\u001B[0m\n\u001B[0;32m----> 1\u001B[0m m\u001B[38;5;241m.\u001B[39mjordan_block(eigenvalue\u001B[38;5;241m=\u001B[39m\u001B[38;5;241m1.9919642\u001B[39m)\n",
      "File \u001B[0;32m~/anaconda3/envs/Optimization/lib/python3.11/site-packages/sympy/matrices/common.py:1100\u001B[0m, in \u001B[0;36mMatrixSpecial.jordan_block\u001B[0;34m(kls, size, eigenvalue, band, **kwargs)\u001B[0m\n\u001B[1;32m   1097\u001B[0m         eigenvalue \u001B[38;5;241m=\u001B[39m eigenval\n\u001B[1;32m   1099\u001B[0m \u001B[38;5;28;01mif\u001B[39;00m size \u001B[38;5;129;01mis\u001B[39;00m \u001B[38;5;28;01mNone\u001B[39;00m:\n\u001B[0;32m-> 1100\u001B[0m     \u001B[38;5;28;01mraise\u001B[39;00m \u001B[38;5;167;01mValueError\u001B[39;00m(\u001B[38;5;124m\"\u001B[39m\u001B[38;5;124mMust supply a matrix size\u001B[39m\u001B[38;5;124m\"\u001B[39m)\n\u001B[1;32m   1102\u001B[0m size \u001B[38;5;241m=\u001B[39m as_int(size)\n\u001B[1;32m   1103\u001B[0m \u001B[38;5;28;01mreturn\u001B[39;00m klass\u001B[38;5;241m.\u001B[39m_eval_jordan_block(size, eigenvalue, band)\n",
      "\u001B[0;31mValueError\u001B[0m: Must supply a matrix size"
     ]
    }
   ],
   "execution_count": 26
  },
  {
   "metadata": {
    "ExecuteTime": {
     "end_time": "2024-07-03T10:59:45.190922Z",
     "start_time": "2024-07-03T10:59:45.186331Z"
    }
   },
   "cell_type": "code",
   "source": "evals",
   "id": "5a593fc19c5d032e",
   "outputs": [
    {
     "data": {
      "text/plain": [
       "array([ 1.9919642 +0.j        ,  0.52886126+0.76534196j,\n",
       "        0.52886126-0.76534196j, -0.78418702+0.36004972j,\n",
       "       -0.78418702-0.36004972j, -0.24065634+0.849197j  ,\n",
       "       -0.24065634-0.849197j  ])"
      ]
     },
     "execution_count": 31,
     "metadata": {},
     "output_type": "execute_result"
    }
   ],
   "execution_count": 31
  },
  {
   "metadata": {
    "ExecuteTime": {
     "end_time": "2024-07-03T11:00:09.764758Z",
     "start_time": "2024-07-03T11:00:09.759483Z"
    }
   },
   "cell_type": "code",
   "source": "import matplotlib.pyplot as plt",
   "id": "2b0b00fb0c760b7",
   "outputs": [],
   "execution_count": 32
  },
  {
   "metadata": {
    "ExecuteTime": {
     "end_time": "2024-07-03T11:02:50.320762Z",
     "start_time": "2024-07-03T11:02:50.047186Z"
    }
   },
   "cell_type": "code",
   "source": [
    "t = np.linspace(0,np.pi*2,100)\n",
    "plt.scatter(evals.real, evals.imag)\n",
    "plt.plot(np.cos(t), np.sin(t), linewidth=1)"
   ],
   "id": "44ae9f9ed71a389c",
   "outputs": [
    {
     "data": {
      "text/plain": [
       "[<matplotlib.lines.Line2D at 0x7fcee7cc7410>]"
      ]
     },
     "execution_count": 35,
     "metadata": {},
     "output_type": "execute_result"
    },
    {
     "data": {
      "text/plain": [
       "<Figure size 640x480 with 1 Axes>"
      ],
      "image/png": "[encoded data removed]"
     },
     "metadata": {},
     "output_type": "display_data"
    }
   ],
   "execution_count": 35
  },
  {
   "metadata": {
    "ExecuteTime": {
     "end_time": "2024-07-03T11:03:51.799148Z",
     "start_time": "2024-07-03T11:03:51.795189Z"
    }
   },
   "cell_type": "code",
   "source": "",
   "id": "b84c694ae3c0c990",
   "outputs": [],
   "execution_count": 37
  },
  {
   "metadata": {
    "ExecuteTime": {
     "end_time": "2024-07-04T13:57:22.250948Z",
     "start_time": "2024-07-04T13:57:22.241688Z"
    }
   },
   "cell_type": "code",
   "source": [
    "def sweep(mm, k):\n",
    "    n = mm.shape[0]\n",
    "    temp = np.zeros_like(mm)\n",
    "    for i in range(n):\n",
    "        for j in range(n):\n",
    "            if i == k and j == k:\n",
    "                temp[i, j] = -1. / mm[k, k]\n",
    "            elif i == k:\n",
    "                temp[i, j] = mm[k, j] / mm[k, k]\n",
    "            elif j == k:\n",
    "                temp[i, j] = mm[i, k] / mm[k, k]\n",
    "            else:\n",
    "                temp[i, j] = mm[i, j] -  ((mm[i, k] * mm[k, j])/ mm[k, k])\n",
    "    \n",
    "    return temp\n",
    "               "
   ],
   "id": "6126aba15473f2c",
   "outputs": [],
   "execution_count": 14
  },
  {
   "metadata": {
    "ExecuteTime": {
     "end_time": "2024-07-04T13:57:24.257453Z",
     "start_time": "2024-07-04T13:57:24.200448Z"
    }
   },
   "cell_type": "code",
   "source": "Matrix(sweep(a, 2))",
   "id": "6e23aa8738be8664",
   "outputs": [
    {
     "name": "stderr",
     "output_type": "stream",
     "text": [
      "/tmp/ipykernel_338217/883131456.py:13: RuntimeWarning: invalid value encountered in scalar divide\n",
      "  temp[i, j] = mm[i, j] -  ((mm[i, k] * mm[k, j])/ mm[k, k])\n"
     ]
    },
    {
     "ename": "ValueError",
     "evalue": "cannot convert float NaN to integer",
     "output_type": "error",
     "traceback": [
      "\u001B[0;31m---------------------------------------------------------------------------\u001B[0m",
      "\u001B[0;31mValueError\u001B[0m                                Traceback (most recent call last)",
      "Cell \u001B[0;32mIn[15], line 1\u001B[0m\n\u001B[0;32m----> 1\u001B[0m Matrix(sweep(a, \u001B[38;5;241m2\u001B[39m))\n",
      "Cell \u001B[0;32mIn[14], line 13\u001B[0m, in \u001B[0;36msweep\u001B[0;34m(mm, k)\u001B[0m\n\u001B[1;32m     11\u001B[0m             temp[i, j] \u001B[38;5;241m=\u001B[39m mm[i, k] \u001B[38;5;241m/\u001B[39m mm[k, k]\n\u001B[1;32m     12\u001B[0m         \u001B[38;5;28;01melse\u001B[39;00m:\n\u001B[0;32m---> 13\u001B[0m             temp[i, j] \u001B[38;5;241m=\u001B[39m mm[i, j] \u001B[38;5;241m-\u001B[39m  ((mm[i, k] \u001B[38;5;241m*\u001B[39m mm[k, j])\u001B[38;5;241m/\u001B[39m mm[k, k])\n\u001B[1;32m     15\u001B[0m \u001B[38;5;28;01mreturn\u001B[39;00m temp\n",
      "\u001B[0;31mValueError\u001B[0m: cannot convert float NaN to integer"
     ]
    }
   ],
   "execution_count": 15
  },
  {
   "metadata": {
    "ExecuteTime": {
     "end_time": "2024-07-04T13:56:49.268214Z",
     "start_time": "2024-07-04T13:56:49.265693Z"
    }
   },
   "cell_type": "code",
   "source": "",
   "id": "c024fa157c3910c4",
   "outputs": [],
   "execution_count": 12
  },
  {
   "metadata": {},
   "cell_type": "code",
   "outputs": [],
   "execution_count": null,
   "source": "",
   "id": "3b9384862f3f1bd1"
  }
 ],
 "metadata": {
  "kernelspec": {
   "display_name": "Python 3",
   "language": "python",
   "name": "python3"
  },
  "language_info": {
   "codemirror_mode": {
    "name": "ipython",
    "version": 2
   },
   "file_extension": ".py",
   "mimetype": "text/x-python",
   "name": "python",
   "nbconvert_exporter": "python",
   "pygments_lexer": "ipython2",
   "version": "2.7.6"
  }
 },
 "nbformat": 4,
 "nbformat_minor": 5
}
