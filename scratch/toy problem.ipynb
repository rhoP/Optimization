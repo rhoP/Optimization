{
 "cells": [
  {
   "cell_type": "code",
   "execution_count": 121,
   "outputs": [],
   "source": [
    "import numpy as np\n",
    "import matplotlib.pyplot as plt\n",
    "import math"
   ],
   "metadata": {
    "collapsed": false,
    "pycharm": {
     "name": "#%%\n"
    }
   }
  },
  {
   "cell_type": "code",
   "execution_count": 122,
   "outputs": [],
   "source": [
    "def FonsecaFlemingExp(x, a=True):\n",
    "    if a:\n",
    "        return np.exp(np.sum(np.negative((x + np.full_like(x, -1./math.sqrt(2)))**2)))\n",
    "    else:\n",
    "        return np.exp(np.sum(np.negative((x + np.full_like(x, 1./math.sqrt(2)))**2)))\n",
    "\n",
    "def FonsecaFleming(x):\n",
    "    fa = np.negative(np.expm1(np.sum(np.negative((x + np.full_like(x, -1./math.sqrt(2)))**2))))\n",
    "    fb = np.negative(np.expm1(np.sum(np.negative((x + np.full_like(x, 1./math.sqrt(2)))**2))))\n",
    "    return np.asarray([fa, fb])\n",
    "\n",
    "def FonsecaFlemingJac(x):\n",
    "    Ja = np.multiply(2 * (x + np.full_like(x, -1./math.sqrt(2))), FonsecaFlemingExp(x, True))\n",
    "    Jb = np.multiply(2 * (x + np.full_like(x, 1./math.sqrt(2))), FonsecaFlemingExp(x, False))\n",
    "    return np.asarray([Ja, Jb])"
   ],
   "metadata": {
    "collapsed": false,
    "pycharm": {
     "name": "#%%\n"
    }
   }
  },
  {
   "cell_type": "code",
   "execution_count": 123,
   "outputs": [],
   "source": [
    "def StocSearch(dim =2, max_inner_iter=1000, max_outer_iter=50):\n",
    "    front =[]\n",
    "    for j in range(max_outer_iter):\n",
    "        z = np.random.uniform(low=-2., high=2., size=dim)\n",
    "        for i in range(max_inner_iter):\n",
    "            xi = np.random.standard_normal(dim)\n",
    "            z -= 0.01*FonsecaFlemingJac(z).dot(xi)\n",
    "        front.append(FonsecaFleming(z))\n",
    "    return np.asarray(front)\n",
    "\n",
    "f = StocSearch()"
   ],
   "metadata": {
    "collapsed": false,
    "pycharm": {
     "name": "#%%\n"
    }
   }
  },
  {
   "cell_type": "code",
   "execution_count": 124,
   "outputs": [
    {
     "data": {
      "text/plain": "<matplotlib.collections.PathCollection at 0x7f47c4240d90>"
     },
     "execution_count": 124,
     "metadata": {},
     "output_type": "execute_result"
    },
    {
     "data": {
      "text/plain": "<Figure size 432x288 with 1 Axes>",
      "image/png": "[encoded data removed]"
     },
     "metadata": {},
     "output_type": "display_data"
    }
   ],
   "source": [
    "plt.scatter(f[:, 0], f[:, 1])"
   ],
   "metadata": {
    "collapsed": false,
    "pycharm": {
     "name": "#%%\n"
    }
   }
  },
  {
   "cell_type": "code",
   "execution_count": null,
   "outputs": [],
   "source": [],
   "metadata": {
    "collapsed": false,
    "pycharm": {
     "name": "#%%\n"
    }
   }
  },
  {
   "cell_type": "code",
   "execution_count": null,
   "outputs": [],
   "source": [],
   "metadata": {
    "collapsed": false,
    "pycharm": {
     "name": "#%%\n"
    }
   }
  },
  {
   "cell_type": "code",
   "execution_count": 106,
   "outputs": [],
   "source": [],
   "metadata": {
    "collapsed": false,
    "pycharm": {
     "name": "#%%\n"
    }
   }
  },
  {
   "cell_type": "code",
   "execution_count": 106,
   "outputs": [],
   "source": [],
   "metadata": {
    "collapsed": false,
    "pycharm": {
     "name": "#%%\n"
    }
   }
  },
  {
   "cell_type": "code",
   "execution_count": 106,
   "outputs": [],
   "source": [],
   "metadata": {
    "collapsed": false,
    "pycharm": {
     "name": "#%%\n"
    }
   }
  },
  {
   "cell_type": "code",
   "execution_count": null,
   "outputs": [],
   "source": [],
   "metadata": {
    "collapsed": false,
    "pycharm": {
     "name": "#%%\n"
    }
   }
  }
 ],
 "metadata": {
  "kernelspec": {
   "display_name": "Python 3",
   "language": "python",
   "name": "python3"
  },
  "language_info": {
   "codemirror_mode": {
    "name": "ipython",
    "version": 2
   },
   "file_extension": ".py",
   "mimetype": "text/x-python",
   "name": "python",
   "nbconvert_exporter": "python",
   "pygments_lexer": "ipython2",
   "version": "2.7.6"
  }
 },
 "nbformat": 4,
 "nbformat_minor": 0
}