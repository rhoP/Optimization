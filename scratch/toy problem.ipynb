{
 "cells": [
  {
   "cell_type": "code",
   "execution_count": 1,
   "outputs": [],
   "source": [
    "import numpy as np\n",
    "import matplotlib.pyplot as plt\n",
    "import seaborn as sns\n",
    "import math\n",
    "sns.set_context(\"notebook\", font_scale=1.25, rc={\"lines.linewidth\": 10.5})"
   ],
   "metadata": {
    "collapsed": false,
    "pycharm": {
     "name": "#%%\n"
    }
   }
  },
  {
   "cell_type": "code",
   "execution_count": 27,
   "outputs": [],
   "source": [
    "def fonseca_fleming_exp(x, a=True):\n",
    "    if a:\n",
    "        return np.exp(np.sum(np.negative((x + np.full_like(x, -1./math.sqrt(2)))**2)))\n",
    "    else:\n",
    "        return np.exp(np.sum(np.negative((x + np.full_like(x, 1./math.sqrt(2)))**2)))\n",
    "\n",
    "def fonseca_fleming(x):\n",
    "    fa = np.negative(np.expm1(np.sum(np.negative((x + np.full_like(x, -1./math.sqrt(2)))**2))))\n",
    "    fb = np.negative(np.expm1(np.sum(np.negative((x + np.full_like(x, 1./math.sqrt(2)))**2))))\n",
    "    return np.asarray([fa, fb])\n",
    "\n",
    "def fonseca_fleming_jac(x):\n",
    "    Ja = np.multiply(2 * (x + np.full_like(x, -1./math.sqrt(2))), fonseca_fleming_exp(x, True))\n",
    "    Jb = np.multiply(2 * (x + np.full_like(x, 1./math.sqrt(2))), fonseca_fleming_exp(x, False))\n",
    "    return np.asarray([Ja, Jb])\n",
    "\n",
    "def runif_in_simplex(n):\n",
    "  ''' Return uniformly random vector in the n-simplex '''\n",
    "  k = np.random.exponential(scale=1.0, size=n)\n",
    "  return k / sum(k)"
   ],
   "metadata": {
    "collapsed": false,
    "pycharm": {
     "name": "#%%\n"
    }
   }
  },
  {
   "cell_type": "code",
   "execution_count": 25,
   "outputs": [],
   "source": [
    "def stoc_search(dim =2, max_inner_iter=100, max_outer_iter=500):\n",
    "    front =[]\n",
    "    for j in range(max_outer_iter):\n",
    "        z = np.random.uniform(low=-4., high=4., size=dim)\n",
    "        xi = runif_in_simplex(2)\n",
    "        # front.append(FonsecaFleming(z))\n",
    "        for i in range(max_inner_iter):\n",
    "            # xi = 2.*np.random.binomial(n=1, p=0.5, size=dim) - 1.\n",
    "            # v = np.random.randn(dim)\n",
    "            if np.linalg.norm(fonseca_fleming_jac(z)) <= 1.e-4:\n",
    "                break\n",
    "            # print(FonsecaFlemingJac(z), \"\\n\", xi, \"\\n z: \", z, \"\\nF : \", FonsecaFleming(z), \"\\n: norm \", np.linalg.norm(FonsecaFlemingJac(z)))\n",
    "            a = np.linalg.solve(fonseca_fleming_jac(z), -xi)\n",
    "            z += 0.1 * a\n",
    "            np.clip(z, -4., 4.)\n",
    "        front.append(fonseca_fleming(z))\n",
    "    return np.asarray(front)\n",
    "\n",
    "f = stoc_search()"
   ],
   "metadata": {
    "collapsed": false,
    "pycharm": {
     "name": "#%%\n"
    }
   }
  },
  {
   "cell_type": "code",
   "execution_count": 26,
   "outputs": [
    {
     "data": {
      "text/plain": "<matplotlib.collections.PathCollection at 0x7fe7fd752fe0>"
     },
     "execution_count": 26,
     "metadata": {},
     "output_type": "execute_result"
    },
    {
     "data": {
      "text/plain": "<Figure size 640x640 with 1 Axes>",
      "image/png": "[encoded data removed]"
     },
     "metadata": {},
     "output_type": "display_data"
    }
   ],
   "source": [
    "plt.figure(1, figsize=(8, 8), dpi=80)\n",
    "plt.axis([0., 1., 0., 1.])\n",
    "# plt.scatter(f[0, 0], f[0, 1], color='r')\n",
    "plt.scatter(f[:, 0], f[:, 1], color='g')"
   ],
   "metadata": {
    "collapsed": false,
    "pycharm": {
     "name": "#%%\n"
    }
   }
  },
  {
   "cell_type": "code",
   "execution_count": 27,
   "outputs": [],
   "source": [],
   "metadata": {
    "collapsed": false,
    "pycharm": {
     "name": "#%%\n"
    }
   }
  },
  {
   "cell_type": "code",
   "execution_count": 7,
   "outputs": [],
   "source": [],
   "metadata": {
    "collapsed": false,
    "pycharm": {
     "name": "#%%\n"
    }
   }
  },
  {
   "cell_type": "code",
   "execution_count": 7,
   "outputs": [],
   "source": [],
   "metadata": {
    "collapsed": false,
    "pycharm": {
     "name": "#%%\n"
    }
   }
  },
  {
   "cell_type": "code",
   "execution_count": 106,
   "outputs": [],
   "source": [],
   "metadata": {
    "collapsed": false,
    "pycharm": {
     "name": "#%%\n"
    }
   }
  },
  {
   "cell_type": "code",
   "execution_count": 106,
   "outputs": [],
   "source": [],
   "metadata": {
    "collapsed": false,
    "pycharm": {
     "name": "#%%\n"
    }
   }
  },
  {
   "cell_type": "code",
   "execution_count": null,
   "outputs": [],
   "source": [],
   "metadata": {
    "collapsed": false,
    "pycharm": {
     "name": "#%%\n"
    }
   }
  }
 ],
 "metadata": {
  "kernelspec": {
   "display_name": "Python 3",
   "language": "python",
   "name": "python3"
  },
  "language_info": {
   "codemirror_mode": {
    "name": "ipython",
    "version": 2
   },
   "file_extension": ".py",
   "mimetype": "text/x-python",
   "name": "python",
   "nbconvert_exporter": "python",
   "pygments_lexer": "ipython2",
   "version": "2.7.6"
  }
 },
 "nbformat": 4,
 "nbformat_minor": 0
}